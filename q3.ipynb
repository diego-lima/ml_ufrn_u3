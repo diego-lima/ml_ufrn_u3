{
 "cells": [
  {
   "cell_type": "code",
   "execution_count": 1,
   "metadata": {},
   "outputs": [],
   "source": [
    "import pandas as pd\n",
    "import seaborn as sns\n",
    "import numpy as np\n",
    "import matplotlib.pyplot as plt\n",
    "from mpl_toolkits.mplot3d import Axes3D\n",
    "from sklearn.cluster import KMeans"
   ]
  },
  {
   "cell_type": "code",
   "execution_count": 29,
   "metadata": {},
   "outputs": [
    {
     "data": {
      "text/html": [
       "<div>\n",
       "<style scoped>\n",
       "    .dataframe tbody tr th:only-of-type {\n",
       "        vertical-align: middle;\n",
       "    }\n",
       "\n",
       "    .dataframe tbody tr th {\n",
       "        vertical-align: top;\n",
       "    }\n",
       "\n",
       "    .dataframe thead th {\n",
       "        text-align: right;\n",
       "    }\n",
       "</style>\n",
       "<table border=\"1\" class=\"dataframe\">\n",
       "  <thead>\n",
       "    <tr style=\"text-align: right;\">\n",
       "      <th></th>\n",
       "      <th>expectativa_de_vida</th>\n",
       "      <th>educacao</th>\n",
       "      <th>pib</th>\n",
       "      <th>estabilidade_politica</th>\n",
       "    </tr>\n",
       "    <tr>\n",
       "      <th>pais</th>\n",
       "      <th></th>\n",
       "      <th></th>\n",
       "      <th></th>\n",
       "      <th></th>\n",
       "    </tr>\n",
       "  </thead>\n",
       "  <tbody>\n",
       "    <tr>\n",
       "      <th>Reino Unido</th>\n",
       "      <td>0.88</td>\n",
       "      <td>0.99</td>\n",
       "      <td>0.91</td>\n",
       "      <td>1.10</td>\n",
       "    </tr>\n",
       "    <tr>\n",
       "      <th>Austrália</th>\n",
       "      <td>0.90</td>\n",
       "      <td>0.99</td>\n",
       "      <td>0.93</td>\n",
       "      <td>1.26</td>\n",
       "    </tr>\n",
       "    <tr>\n",
       "      <th>Canadá</th>\n",
       "      <td>0.90</td>\n",
       "      <td>0.98</td>\n",
       "      <td>0.94</td>\n",
       "      <td>1.24</td>\n",
       "    </tr>\n",
       "    <tr>\n",
       "      <th>Estados Unidos</th>\n",
       "      <td>0.87</td>\n",
       "      <td>0.98</td>\n",
       "      <td>0.97</td>\n",
       "      <td>1.18</td>\n",
       "    </tr>\n",
       "    <tr>\n",
       "      <th>Japão</th>\n",
       "      <td>0.93</td>\n",
       "      <td>0.93</td>\n",
       "      <td>0.93</td>\n",
       "      <td>1.20</td>\n",
       "    </tr>\n",
       "  </tbody>\n",
       "</table>\n",
       "</div>"
      ],
      "text/plain": [
       "                expectativa_de_vida  educacao   pib  estabilidade_politica\n",
       "pais                                                                      \n",
       "Reino Unido                    0.88      0.99  0.91                   1.10\n",
       "Austrália                      0.90      0.99  0.93                   1.26\n",
       "Canadá                         0.90      0.98  0.94                   1.24\n",
       "Estados Unidos                 0.87      0.98  0.97                   1.18\n",
       "Japão                          0.93      0.93  0.93                   1.20"
      ]
     },
     "execution_count": 29,
     "metadata": {},
     "output_type": "execute_result"
    }
   ],
   "source": [
    "dados = pd.read_csv(\"q3.csv\", index_col=0, sep=';')\n",
    "dados.head()"
   ]
  },
  {
   "cell_type": "code",
   "execution_count": 30,
   "metadata": {},
   "outputs": [],
   "source": [
    "def calc_centroide(congl):\n",
    "  return np.mean(congl, axis=0)\n",
    "\n",
    "def distConglomerado(c0, c1):\n",
    "  centroide_0 = calc_centroide(c0)\n",
    "  centroide_1 = calc_centroide(c1)\n",
    "\n",
    "  fator = (c0.shape[0]*c1.shape[0])/(c0.shape[0]+c1.shape[0])\n",
    "\n",
    "  dist = centroide_1 - centroide_0 \n",
    "\n",
    "  return fator * (dist @ dist)\n",
    "\n",
    "def calcR2(data, ind):\n",
    "\n",
    "  m = calc_centroide(data)\n",
    "\n",
    "  SSB = 0.0\n",
    "  SST = 0.0\n",
    "\n",
    "  for i in ind:\n",
    "    cluster = data[i, :]\n",
    "    \n",
    "    ni, _ = cluster.shape\n",
    "    mi = calc_centroide(cluster)\n",
    "\n",
    "    SSB += ni * ((mi - m) @ (mi - m))\n",
    "\n",
    "    for j in range(ni):\n",
    "      SST += (cluster[j, :] - mi).T @ (cluster[j, :] - mi)\n",
    "\n",
    "  return SSB/SST\n",
    "\n",
    "def calcPseudoT2(data, cluster0, cluster1):\n",
    "  m0 = calc_centroide(cluster0)\n",
    "  m1 = calc_centroide(cluster1)\n",
    "\n",
    "  sum1 = (cluster0 - m0).T @ (cluster0 - m0)\n",
    "  sum2 = (cluster1 - m1).T @ (cluster1 - m1)\n",
    "\n",
    "  B = distConglomerado(cluster0, cluster1)\n",
    "\n",
    "  PST2 = B * (cluster0.shape[0] + cluster1.shape[0] - 1)\n",
    "\n",
    "  PST2 /= (sum1 + sum2)\n",
    "\n",
    "  return PST2\n",
    "\n",
    "\n",
    "def concatCongl(C, i, j):\n",
    "  C1 = C[i]\n",
    "  C2 = C[j]\n",
    "  if(i < j):\n",
    "    del(C[j])\n",
    "    del(C[i])\n",
    "  else:\n",
    "    del(C[i])\n",
    "    del(C[j])\n",
    "\n",
    "  C.append(C1 + C2)\n",
    "  return C"
   ]
  },
  {
   "cell_type": "code",
   "execution_count": 32,
   "metadata": {},
   "outputs": [
    {
     "name": "stdout",
     "output_type": "stream",
     "text": [
      "[[0], [3], [4], [5], [6], [7], [8], [9], [10], [11], [12], [13], [14], [15], [16], [17], [18], [19], [20], [1, 2]] \n",
      "\n",
      "\n",
      "[[3], [4], [6], [7], [8], [9], [10], [11], [12], [13], [14], [15], [16], [17], [18], [19], [20], [1, 2], [0, 5]] \n",
      "\n",
      "\n",
      "[[6], [7], [8], [9], [10], [11], [12], [13], [14], [15], [16], [17], [18], [19], [20], [1, 2], [0, 5], [3, 4]] \n",
      "\n",
      "\n",
      "[[6], [7], [8], [9], [10], [11], [12], [13], [14], [15], [16], [17], [18], [19], [20], [0, 5], [1, 2, 3, 4]] \n",
      "\n",
      "\n",
      "[[6], [7], [8], [9], [10], [12], [13], [14], [15], [16], [17], [18], [19], [0, 5], [1, 2, 3, 4], [11, 20]] \n",
      "\n",
      "\n",
      "[[6], [7], [9], [10], [12], [13], [14], [15], [16], [17], [18], [19], [1, 2, 3, 4], [11, 20], [8, 0, 5]] \n",
      "\n",
      "\n",
      "[[6], [7], [9], [10], [12], [13], [14], [16], [17], [19], [1, 2, 3, 4], [11, 20], [8, 0, 5], [15, 18]] \n",
      "\n",
      "\n",
      "[[6], [9], [10], [12], [13], [14], [16], [17], [19], [1, 2, 3, 4], [8, 0, 5], [15, 18], [7, 11, 20]] \n",
      "\n",
      "\n",
      "[[9], [10], [12], [13], [14], [16], [17], [19], [8, 0, 5], [15, 18], [7, 11, 20], [6, 1, 2, 3, 4]] \n",
      "\n",
      "\n",
      "[[10], [12], [14], [16], [17], [19], [8, 0, 5], [15, 18], [7, 11, 20], [6, 1, 2, 3, 4], [9, 13]] \n",
      "\n",
      "\n",
      "[[10], [12], [17], [19], [8, 0, 5], [15, 18], [7, 11, 20], [6, 1, 2, 3, 4], [9, 13], [14, 16]] \n",
      "\n",
      "\n",
      "[[10], [12], [17], [19], [15, 18], [7, 11, 20], [9, 13], [14, 16], [8, 0, 5, 6, 1, 2, 3, 4]] \n",
      "\n",
      "\n",
      "[[17], [19], [15, 18], [7, 11, 20], [9, 13], [14, 16], [8, 0, 5, 6, 1, 2, 3, 4], [10, 12]] \n",
      "\n",
      "\n",
      "[[17], [19], [15, 18], [14, 16], [8, 0, 5, 6, 1, 2, 3, 4], [10, 12], [7, 11, 20, 9, 13]] \n",
      "\n",
      "\n",
      "[[19], [15, 18], [8, 0, 5, 6, 1, 2, 3, 4], [10, 12], [7, 11, 20, 9, 13], [17, 14, 16]] \n",
      "\n",
      "\n",
      "[[8, 0, 5, 6, 1, 2, 3, 4], [10, 12], [7, 11, 20, 9, 13], [17, 14, 16], [19, 15, 18]] \n",
      "\n",
      "\n",
      "[[8, 0, 5, 6, 1, 2, 3, 4], [7, 11, 20, 9, 13], [19, 15, 18], [10, 12, 17, 14, 16]] \n",
      "\n",
      "\n",
      "[[8, 0, 5, 6, 1, 2, 3, 4], [10, 12, 17, 14, 16], [7, 11, 20, 9, 13, 19, 15, 18]] \n",
      "\n",
      "\n",
      "[[10, 12, 17, 14, 16], [8, 0, 5, 6, 1, 2, 3, 4, 7, 11, 20, 9, 13, 19, 15, 18]] \n",
      "\n",
      "\n",
      "[[10, 12, 17, 14, 16, 8, 0, 5, 6, 1, 2, 3, 4, 7, 11, 20, 9, 13, 19, 15, 18]] \n",
      "\n",
      "\n"
     ]
    }
   ],
   "source": [
    "ind = [[i,] for i in range(dados.shape[0])]\n",
    "R2 = []\n",
    "sim = np.zeros((len(ind), len(ind)))\n",
    "ind_hist = []\n",
    "matriz = dados.to_numpy()\n",
    "\n",
    "while(len(ind) != 1):\n",
    "  sim = np.zeros((len(ind), len(ind)))\n",
    "  for i in range(len(ind)):\n",
    "    for j in range(len(ind)):\n",
    "      if(i == j):\n",
    "        sim[i, j] = 100000\n",
    "      else:\n",
    "        dc = distConglomerado(matriz[ind[i], :], matriz[ind[j], :])\n",
    "        sim[i, j] = dc\n",
    "     \n",
    "\n",
    "  i, j = np.unravel_index(sim.argmin(), sim.shape)\n",
    "\n",
    "  ind = concatCongl(ind, i, j)\n",
    "    \n",
    "  print(ind, \"\\n\\n\")\n",
    "\n",
    "\n",
    "  R2 += [calcR2(matriz, ind), ]\n",
    "  ind_hist.append(ind.copy())\n"
   ]
  },
  {
   "cell_type": "code",
   "execution_count": 33,
   "metadata": {},
   "outputs": [
    {
     "data": {
      "image/png": "[encoded data removed]",
      "text/plain": [
       "<Figure size 576x432 with 1 Axes>"
      ]
     },
     "metadata": {
      "needs_background": "light"
     },
     "output_type": "display_data"
    }
   ],
   "source": [
    "plt.figure(figsize=(8, 6))\n",
    "\n",
    "plt.plot(np.arange(0, len(R2), 1), R2)\n",
    "plt.ylabel('R2')\n",
    "plt.xlabel('Iterações')\n",
    "plt.xticks(np.arange(0, len(R2), 2))\n",
    "plt.title(\"R2 em função das iterações\")\n",
    "plt.show()"
   ]
  },
  {
   "cell_type": "code",
   "execution_count": 34,
   "metadata": {},
   "outputs": [
    {
     "data": {
      "text/plain": [
       "15"
      ]
     },
     "execution_count": 34,
     "metadata": {},
     "output_type": "execute_result"
    }
   ],
   "source": [
    "ind_i = 0\n",
    "\n",
    "for i in range(1, len(R2)):\n",
    "  if(abs(R2[i]-R2[i-1]) < 10):\n",
    "    ind_i = i\n",
    "    break;\n",
    "    \n",
    "ind_i"
   ]
  },
  {
   "cell_type": "code",
   "execution_count": 36,
   "metadata": {},
   "outputs": [
    {
     "data": {
      "text/plain": [
       "[85883.60317460334,\n",
       " 10734.575396825383,\n",
       " 3993.6327057954963,\n",
       " 2304.62693086183,\n",
       " 1163.5369921980093,\n",
       " 562.0751619533262,\n",
       " 339.54914795525,\n",
       " 236.45071148803572,\n",
       " 174.80890428317986,\n",
       " 123.10870547541441,\n",
       " 94.10913223307557,\n",
       " 71.58364941863782,\n",
       " 52.99000671042162,\n",
       " 40.052844422744755,\n",
       " 25.92358887305151,\n",
       " 17.205125918902567,\n",
       " 11.036944652541296,\n",
       " 5.610283425310471,\n",
       " 1.5959483253603552,\n",
       " 1.0674121083898927e-32]"
      ]
     },
     "execution_count": 36,
     "metadata": {},
     "output_type": "execute_result"
    }
   ],
   "source": [
    "R2"
   ]
  },
  {
   "cell_type": "code",
   "execution_count": 37,
   "metadata": {},
   "outputs": [
    {
     "name": "stdout",
     "output_type": "stream",
     "text": [
      "[0.88375 0.95375 0.9075  1.185  ]\n",
      "[ 0.76   0.84   0.66  -1.115]\n",
      "[0.766 0.814 0.674 0.338]\n",
      "[ 0.33666667  0.42333333  0.38333333 -1.53333333]\n",
      "[ 0.34        0.36333333  0.37666667 -0.34333333]\n"
     ]
    }
   ],
   "source": [
    "for cong in ind_hist[ind_i]:\n",
    "  print(calc_centroide(matriz[cong, :]))"
   ]
  },
  {
   "cell_type": "code",
   "execution_count": 41,
   "metadata": {},
   "outputs": [
    {
     "data": {
      "image/png": "[encoded data removed]",
      "text/plain": [
       "<Figure size 720x504 with 1 Axes>"
      ]
     },
     "metadata": {
      "needs_background": "light"
     },
     "output_type": "display_data"
    }
   ],
   "source": [
    "from scipy.cluster.hierarchy import dendrogram, linkage\n",
    "\n",
    "Z = linkage(matriz, 'ward')\n",
    "\n",
    "fig = plt.figure(figsize=(10,7))\n",
    "\n",
    "dendrogram(Z, color_threshold=1, labels=dados.index)\n",
    "\n",
    "plt.show() "
   ]
  }
 ],
 "metadata": {
  "kernelspec": {
   "display_name": "Python 3",
   "language": "python",
   "name": "python3"
  },
  "language_info": {
   "codemirror_mode": {
    "name": "ipython",
    "version": 3
   },
   "file_extension": ".py",
   "mimetype": "text/x-python",
   "name": "python",
   "nbconvert_exporter": "python",
   "pygments_lexer": "ipython3",
   "version": "3.8.5"
  }
 },
 "nbformat": 4,
 "nbformat_minor": 4
}
