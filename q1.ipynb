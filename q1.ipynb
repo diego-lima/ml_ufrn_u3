{
 "cells": [
  {
   "cell_type": "code",
   "execution_count": 5,
   "metadata": {},
   "outputs": [
    {
     "data": {
      "text/html": [
       "<div>\n",
       "<style scoped>\n",
       "    .dataframe tbody tr th:only-of-type {\n",
       "        vertical-align: middle;\n",
       "    }\n",
       "\n",
       "    .dataframe tbody tr th {\n",
       "        vertical-align: top;\n",
       "    }\n",
       "\n",
       "    .dataframe thead th {\n",
       "        text-align: right;\n",
       "    }\n",
       "</style>\n",
       "<table border=\"1\" class=\"dataframe\">\n",
       "  <thead>\n",
       "    <tr style=\"text-align: right;\">\n",
       "      <th></th>\n",
       "      <th>x1</th>\n",
       "      <th>x2</th>\n",
       "      <th>x3</th>\n",
       "      <th>x4</th>\n",
       "    </tr>\n",
       "  </thead>\n",
       "  <tbody>\n",
       "    <tr>\n",
       "      <th>0</th>\n",
       "      <td>79.9</td>\n",
       "      <td>13.9</td>\n",
       "      <td>6.2</td>\n",
       "      <td>3.3</td>\n",
       "    </tr>\n",
       "    <tr>\n",
       "      <th>1</th>\n",
       "      <td>78.5</td>\n",
       "      <td>16.3</td>\n",
       "      <td>7.2</td>\n",
       "      <td>2.5</td>\n",
       "    </tr>\n",
       "    <tr>\n",
       "      <th>2</th>\n",
       "      <td>68.9</td>\n",
       "      <td>22.6</td>\n",
       "      <td>8.5</td>\n",
       "      <td>3.6</td>\n",
       "    </tr>\n",
       "    <tr>\n",
       "      <th>3</th>\n",
       "      <td>62.2</td>\n",
       "      <td>20.2</td>\n",
       "      <td>17.6</td>\n",
       "      <td>2.8</td>\n",
       "    </tr>\n",
       "    <tr>\n",
       "      <th>4</th>\n",
       "      <td>69.2</td>\n",
       "      <td>23.7</td>\n",
       "      <td>7.1</td>\n",
       "      <td>0.9</td>\n",
       "    </tr>\n",
       "  </tbody>\n",
       "</table>\n",
       "</div>"
      ],
      "text/plain": [
       "     x1    x2    x3   x4\n",
       "0  79.9  13.9   6.2  3.3\n",
       "1  78.5  16.3   7.2  2.5\n",
       "2  68.9  22.6   8.5  3.6\n",
       "3  62.2  20.2  17.6  2.8\n",
       "4  69.2  23.7   7.1  0.9"
      ]
     },
     "execution_count": 5,
     "metadata": {},
     "output_type": "execute_result"
    }
   ],
   "source": [
    "import pandas as pd \n",
    "import numpy as np\n",
    "import matplotlib.pyplot as plt\n",
    "import seaborn as sns\n",
    "\n",
    "dataset = pd.read_csv('q1.csv')\n",
    "\n",
    "dataset.head()"
   ]
  },
  {
   "cell_type": "markdown",
   "metadata": {},
   "source": [
    "### Matriz de correlação"
   ]
  },
  {
   "cell_type": "code",
   "execution_count": 6,
   "metadata": {},
   "outputs": [
    {
     "data": {
      "text/plain": [
       "<AxesSubplot:>"
      ]
     },
     "execution_count": 6,
     "metadata": {},
     "output_type": "execute_result"
    },
    {
     "data": {
      "image/png": "[encoded data removed]",
      "text/plain": [
       "<Figure size 432x288 with 2 Axes>"
      ]
     },
     "metadata": {
      "needs_background": "light"
     },
     "output_type": "display_data"
    }
   ],
   "source": [
    "corr = dataset.corr()\n",
    "sns.heatmap(corr, annot=True)"
   ]
  },
  {
   "cell_type": "markdown",
   "metadata": {},
   "source": [
    "### Autovalores e autovetores da matriz de correlação"
   ]
  },
  {
   "cell_type": "code",
   "execution_count": 9,
   "metadata": {},
   "outputs": [
    {
     "name": "stdout",
     "output_type": "stream",
     "text": [
      "Autovalores: \n",
      "0    2.507544\n",
      "3    1.018395\n",
      "2    0.472769\n",
      "1    0.001292\n",
      "\n",
      "Autovetores: \n",
      "          0         1         2         3\n",
      "0  0.624028 -0.756651 -0.171097 -0.093772\n",
      "3  0.243574 -0.006091  0.442228  0.863174\n",
      "2 -0.465290 -0.288303 -0.685302  0.480362\n",
      "1 -0.578590 -0.586790  0.552739 -0.124056\n"
     ]
    }
   ],
   "source": [
    "autovalores, autovetores = np.linalg.eig(corr.to_numpy())\n",
    "\n",
    "autovalores_pd = pd.Series(autovalores)\n",
    "autovetores_pd = pd.DataFrame(autovetores)\n",
    "\n",
    "autovalores_pd = autovalores_pd.sort_values(ascending=False)\n",
    "autovetores_pd = autovetores_pd.reindex(autovalores_pd.index)\n",
    "\n",
    "print(\"Autovalores: \")\n",
    "print(autovalores_pd.to_string())\n",
    "print()\n",
    "print(\"Autovetores: \")\n",
    "print(autovetores_pd.to_string())"
   ]
  },
  {
   "cell_type": "markdown",
   "metadata": {},
   "source": [
    "### Equações das componentes principais"
   ]
  },
  {
   "cell_type": "markdown",
   "metadata": {},
   "source": [
    "$\n",
    "Y_0 = 0.624X_1 - 0.757X_2 - 0.171097X_3 - 0.093772X_4\\\\\n",
    "Y_1 = - 0.578590X_1 - 0.586790X_2 + 0.552739X_3 - 0.124056X_4\\\\\n",
    "Y_2 = - 0.465290X_1 - 0.288303X_2 - 0.685302X_3 + 0.480362X_4\\\\\n",
    "Y_3 = 0.243574X_1 - 0.006091X_2 + 0.442228X_3 + 0.863174X_4\\\\\n",
    "$"
   ]
  },
  {
   "cell_type": "markdown",
   "metadata": {},
   "source": [
    "### Percentuais de variância para cada componente"
   ]
  },
  {
   "cell_type": "code",
   "execution_count": 15,
   "metadata": {},
   "outputs": [
    {
     "name": "stdout",
     "output_type": "stream",
     "text": [
      "Porcentagens de cada componente: \n",
      "0    0.626886\n",
      "3    0.254599\n",
      "2    0.118192\n",
      "1    0.000323\n"
     ]
    }
   ],
   "source": [
    "var = autovalores_pd/autovalores_pd.sum()\n",
    "print(\"Porcentagens de cada componente: \")\n",
    "print(var.to_string())"
   ]
  }
 ],
 "metadata": {
  "kernelspec": {
   "display_name": "Python 3",
   "language": "python",
   "name": "python3"
  },
  "language_info": {
   "codemirror_mode": {
    "name": "ipython",
    "version": 3
   },
   "file_extension": ".py",
   "mimetype": "text/x-python",
   "name": "python",
   "nbconvert_exporter": "python",
   "pygments_lexer": "ipython3",
   "version": "3.8.5"
  }
 },
 "nbformat": 4,
 "nbformat_minor": 4
}
